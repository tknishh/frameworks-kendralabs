{
 "cells": [
  {
   "cell_type": "code",
   "execution_count": 5,
   "metadata": {},
   "outputs": [
    {
     "name": "stdout",
     "output_type": "stream",
     "text": [
      "Nodes CSV file created: ghgp/nodes.csv\n",
      "Relationships CSV file created: ghgp/relationships.csv\n"
     ]
    }
   ],
   "source": [
    "import csv\n",
    "import json\n",
    "\n",
    "# Path to the JSON data file\n",
    "json_file_path = 'ghgp\\data.json'\n",
    "\n",
    "# Read JSON data\n",
    "with open(json_file_path, 'r') as file:\n",
    "    data = json.load(file)\n",
    "\n",
    "# Extract entities and relationships\n",
    "entities = data['entities']\n",
    "relationships = []\n",
    "\n",
    "for entity_id, entity_data in entities.items():\n",
    "    children = entity_data.get('children', [])\n",
    "    for child_id in children:\n",
    "        relationships.append({'start_node_id': entity_id, 'end_node_id': child_id})\n",
    "\n",
    "# Write nodes.csv\n",
    "nodes_csv_file = 'ghgp/nodes.csv'\n",
    "with open(nodes_csv_file, 'w', newline='') as file:\n",
    "    writer = csv.writer(file)\n",
    "    writer.writerow(['id', 'name'])\n",
    "    for entity_id, entity_data in entities.items():\n",
    "        writer.writerow([entity_id, entity_data['name']])\n",
    "\n",
    "# Write relationships.csv\n",
    "relationships_csv_file = 'ghgp/relationships.csv'\n",
    "with open(relationships_csv_file, 'w', newline='') as file:\n",
    "    writer = csv.writer(file)\n",
    "    writer.writerow(['start_node_id', 'end_node_id', 'type'])\n",
    "    for relationship in relationships:\n",
    "        writer.writerow([relationship['start_node_id'], relationship['end_node_id'], 'HAS_CHILD'])\n",
    "\n",
    "print(f\"Nodes CSV file created: {nodes_csv_file}\")\n",
    "print(f\"Relationships CSV file created: {relationships_csv_file}\")\n"
   ]
  },
  {
   "cell_type": "code",
   "execution_count": null,
   "metadata": {},
   "outputs": [],
   "source": []
  }
 ],
 "metadata": {
  "kernelspec": {
   "display_name": "Python 3",
   "language": "python",
   "name": "python3"
  },
  "language_info": {
   "codemirror_mode": {
    "name": "ipython",
    "version": 3
   },
   "file_extension": ".py",
   "mimetype": "text/x-python",
   "name": "python",
   "nbconvert_exporter": "python",
   "pygments_lexer": "ipython3",
   "version": "3.9.13"
  },
  "orig_nbformat": 4
 },
 "nbformat": 4,
 "nbformat_minor": 2
}
